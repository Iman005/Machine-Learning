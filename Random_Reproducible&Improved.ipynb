{
  "nbformat": 4,
  "nbformat_minor": 0,
  "metadata": {
    "colab": {
      "provenance": [],
      "authorship_tag": "ABX9TyNwtaAyQPWxjnBY93Kjgv/F",
      "include_colab_link": true
    },
    "kernelspec": {
      "name": "python3",
      "display_name": "Python 3"
    },
    "language_info": {
      "name": "python"
    }
  },
  "cells": [
    {
      "cell_type": "markdown",
      "metadata": {
        "id": "view-in-github",
        "colab_type": "text"
      },
      "source": [
        "<a href=\"https://colab.research.google.com/github/Iman005/Machine-Learning/blob/main/Random_Reproducible%26Improved.ipynb\" target=\"_parent\"><img src=\"https://colab.research.google.com/assets/colab-badge.svg\" alt=\"Open In Colab\"/></a>"
      ]
    },
    {
      "cell_type": "code",
      "source": [
        "import numpy as np\n",
        "import pandas as pd\n",
        "import matplotlib.pyplot as plt"
      ],
      "metadata": {
        "id": "DnLc2fQXD9Kn"
      },
      "execution_count": null,
      "outputs": []
    },
    {
      "cell_type": "code",
      "source": [
        "df=pd.read_csv(\"housing.csv\")"
      ],
      "metadata": {
        "id": "ui2bpxEmEGIU"
      },
      "execution_count": null,
      "outputs": []
    },
    {
      "cell_type": "code",
      "source": [
        "def suffle_and_split_df(df,ratio):\n",
        "  np.random.seed(40)\n",
        "  random_indices=np.random.permutation(len(df))\n",
        "  test_set_size=int(len(df)*ratio)\n",
        "  test_random_indices=random_indices[:test_set_size]\n",
        "  train_random_indices=random_indices[test_set_size:]\n",
        "  return df.iloc[train_random_indices] , df.iloc[test_random_indices]"
      ],
      "metadata": {
        "id": "2mG76qW0Vyzm"
      },
      "execution_count": null,
      "outputs": []
    },
    {
      "cell_type": "code",
      "source": [
        "train_set,test_set=suffle_and_split_df(df,0.2)"
      ],
      "metadata": {
        "id": "MoHJmFz4XG7f"
      },
      "execution_count": null,
      "outputs": []
    },
    {
      "cell_type": "code",
      "source": [
        "from zlib import crc32"
      ],
      "metadata": {
        "id": "_QGslrkRPIPq"
      },
      "execution_count": null,
      "outputs": []
    },
    {
      "cell_type": "code",
      "source": [
        "def is_identifier_in_test_set(identifier,test_ratio):\n",
        "  return crc32(np.int64(identifier))<test_ratio*2**32"
      ],
      "metadata": {
        "id": "iDESF2RXPSFU"
      },
      "execution_count": null,
      "outputs": []
    },
    {
      "cell_type": "code",
      "source": [
        "def split_train_test_with_identifier_hash(df,test_ratio,identifier_column):\n",
        "  identifiers=df[identifier_column]\n",
        "  in_test_set=identifiers.aplly(lambda id_:is_identifier_in_test_set(id,test_ratio))\n",
        "  return df.loc[~in_test_set],df.loc[in_test_set]"
      ],
      "metadata": {
        "id": "Zs_55AMBPr7x"
      },
      "execution_count": null,
      "outputs": []
    }
  ]
}